{
 "cells": [
  {
   "cell_type": "markdown",
   "id": "00122289-7b83-4c75-b6dc-d7e63239e3e1",
   "metadata": {},
   "source": [
    "# 0.0 Imports"
   ]
  },
  {
   "cell_type": "code",
   "execution_count": 58,
   "id": "470f9ccd-7540-423a-bdba-768f07caddc9",
   "metadata": {},
   "outputs": [],
   "source": [
    "import pandas as pd\n",
    "import numpy as np\n",
    "import gzip\n",
    "import json\n",
    "import torch\n",
    "\n",
    "import seaborn as sns\n",
    "import matplotlib.pyplot as plt\n",
    "\n",
    "from sklearn.model_selection import train_test_split\n",
    "\n",
    "from transformers import AutoModelForSeq2SeqLM, AutoTokenizer, GenerationConfig, TrainingArguments, Trainer, DistilBertTokenizer, DistilBertForSequenceClassification\n",
    "from transformers import GPT2Tokenizer, GPT2LMHeadModel\n",
    "from transformers import AutoModelForSequenceClassification\n",
    "sns.set_style('darkgrid')"
   ]
  },
  {
   "cell_type": "markdown",
   "id": "0269e56d-a305-4eae-a27f-58c09efef935",
   "metadata": {},
   "source": [
    "# 1.Load Data"
   ]
  },
  {
   "cell_type": "code",
   "execution_count": 68,
   "id": "2a4d9a59-2184-4e45-880d-5c4c60837fd9",
   "metadata": {},
   "outputs": [],
   "source": [
    "def parse(path):\n",
    "  g = gzip.open(path, 'rb')\n",
    "  for l in g:\n",
    "    yield json.loads(l)\n",
    "\n",
    "def getDF(path, max_rows=200):\n",
    "  i = 0\n",
    "  df = {}\n",
    "  for d in parse(path):\n",
    "    if i >= max_rows:\n",
    "        break\n",
    "    df[i] = d\n",
    "    i += 1\n",
    "  return pd.DataFrame.from_dict(df, orient='index')\n",
    "\n",
    "df_raw = getDF('/home/edilson07/projects/sentiment_analysis/Electronics_5.json.gz')"
   ]
  },
  {
   "cell_type": "code",
   "execution_count": 69,
   "id": "245b5543-52cf-492f-a263-1f4690dcf347",
   "metadata": {},
   "outputs": [
    {
     "data": {
      "text/html": [
       "<div>\n",
       "<style scoped>\n",
       "    .dataframe tbody tr th:only-of-type {\n",
       "        vertical-align: middle;\n",
       "    }\n",
       "\n",
       "    .dataframe tbody tr th {\n",
       "        vertical-align: top;\n",
       "    }\n",
       "\n",
       "    .dataframe thead th {\n",
       "        text-align: right;\n",
       "    }\n",
       "</style>\n",
       "<table border=\"1\" class=\"dataframe\">\n",
       "  <thead>\n",
       "    <tr style=\"text-align: right;\">\n",
       "      <th></th>\n",
       "      <th>overall</th>\n",
       "      <th>vote</th>\n",
       "      <th>verified</th>\n",
       "      <th>reviewTime</th>\n",
       "      <th>reviewerID</th>\n",
       "      <th>asin</th>\n",
       "      <th>style</th>\n",
       "      <th>reviewerName</th>\n",
       "      <th>reviewText</th>\n",
       "      <th>summary</th>\n",
       "      <th>unixReviewTime</th>\n",
       "      <th>image</th>\n",
       "    </tr>\n",
       "  </thead>\n",
       "  <tbody>\n",
       "    <tr>\n",
       "      <th>0</th>\n",
       "      <td>5.0</td>\n",
       "      <td>67</td>\n",
       "      <td>True</td>\n",
       "      <td>09 18, 1999</td>\n",
       "      <td>AAP7PPBU72QFM</td>\n",
       "      <td>0151004714</td>\n",
       "      <td>{'Format:': ' Hardcover'}</td>\n",
       "      <td>D. C. Carrad</td>\n",
       "      <td>This is the best novel I have read in 2 or 3 y...</td>\n",
       "      <td>A star is born</td>\n",
       "      <td>937612800</td>\n",
       "      <td>NaN</td>\n",
       "    </tr>\n",
       "    <tr>\n",
       "      <th>1</th>\n",
       "      <td>3.0</td>\n",
       "      <td>5</td>\n",
       "      <td>True</td>\n",
       "      <td>10 23, 2013</td>\n",
       "      <td>A2E168DTVGE6SV</td>\n",
       "      <td>0151004714</td>\n",
       "      <td>{'Format:': ' Kindle Edition'}</td>\n",
       "      <td>Evy</td>\n",
       "      <td>Pages and pages of introspection, in the style...</td>\n",
       "      <td>A stream of consciousness novel</td>\n",
       "      <td>1382486400</td>\n",
       "      <td>NaN</td>\n",
       "    </tr>\n",
       "    <tr>\n",
       "      <th>2</th>\n",
       "      <td>5.0</td>\n",
       "      <td>4</td>\n",
       "      <td>False</td>\n",
       "      <td>09 2, 2008</td>\n",
       "      <td>A1ER5AYS3FQ9O3</td>\n",
       "      <td>0151004714</td>\n",
       "      <td>{'Format:': ' Paperback'}</td>\n",
       "      <td>Kcorn</td>\n",
       "      <td>This is the kind of novel to read when you hav...</td>\n",
       "      <td>I'm a huge fan of the author and this one did ...</td>\n",
       "      <td>1220313600</td>\n",
       "      <td>NaN</td>\n",
       "    </tr>\n",
       "    <tr>\n",
       "      <th>3</th>\n",
       "      <td>5.0</td>\n",
       "      <td>13</td>\n",
       "      <td>False</td>\n",
       "      <td>09 4, 2000</td>\n",
       "      <td>A1T17LMQABMBN5</td>\n",
       "      <td>0151004714</td>\n",
       "      <td>{'Format:': ' Hardcover'}</td>\n",
       "      <td>Caf Girl Writes</td>\n",
       "      <td>What gorgeous language! What an incredible wri...</td>\n",
       "      <td>The most beautiful book I have ever read!</td>\n",
       "      <td>968025600</td>\n",
       "      <td>NaN</td>\n",
       "    </tr>\n",
       "    <tr>\n",
       "      <th>4</th>\n",
       "      <td>3.0</td>\n",
       "      <td>8</td>\n",
       "      <td>True</td>\n",
       "      <td>02 4, 2000</td>\n",
       "      <td>A3QHJ0FXK33OBE</td>\n",
       "      <td>0151004714</td>\n",
       "      <td>{'Format:': ' Hardcover'}</td>\n",
       "      <td>W. Shane Schmidt</td>\n",
       "      <td>I was taken in by reviews that compared this b...</td>\n",
       "      <td>A dissenting view--In part.</td>\n",
       "      <td>949622400</td>\n",
       "      <td>NaN</td>\n",
       "    </tr>\n",
       "  </tbody>\n",
       "</table>\n",
       "</div>"
      ],
      "text/plain": [
       "   overall vote  verified   reviewTime      reviewerID        asin  \\\n",
       "0      5.0   67      True  09 18, 1999   AAP7PPBU72QFM  0151004714   \n",
       "1      3.0    5      True  10 23, 2013  A2E168DTVGE6SV  0151004714   \n",
       "2      5.0    4     False   09 2, 2008  A1ER5AYS3FQ9O3  0151004714   \n",
       "3      5.0   13     False   09 4, 2000  A1T17LMQABMBN5  0151004714   \n",
       "4      3.0    8      True   02 4, 2000  A3QHJ0FXK33OBE  0151004714   \n",
       "\n",
       "                            style      reviewerName  \\\n",
       "0       {'Format:': ' Hardcover'}      D. C. Carrad   \n",
       "1  {'Format:': ' Kindle Edition'}               Evy   \n",
       "2       {'Format:': ' Paperback'}             Kcorn   \n",
       "3       {'Format:': ' Hardcover'}   Caf Girl Writes   \n",
       "4       {'Format:': ' Hardcover'}  W. Shane Schmidt   \n",
       "\n",
       "                                          reviewText  \\\n",
       "0  This is the best novel I have read in 2 or 3 y...   \n",
       "1  Pages and pages of introspection, in the style...   \n",
       "2  This is the kind of novel to read when you hav...   \n",
       "3  What gorgeous language! What an incredible wri...   \n",
       "4  I was taken in by reviews that compared this b...   \n",
       "\n",
       "                                             summary  unixReviewTime image  \n",
       "0                                     A star is born       937612800   NaN  \n",
       "1                    A stream of consciousness novel      1382486400   NaN  \n",
       "2  I'm a huge fan of the author and this one did ...      1220313600   NaN  \n",
       "3          The most beautiful book I have ever read!       968025600   NaN  \n",
       "4                        A dissenting view--In part.       949622400   NaN  "
      ]
     },
     "execution_count": 69,
     "metadata": {},
     "output_type": "execute_result"
    }
   ],
   "source": [
    "df_raw.head()"
   ]
  },
  {
   "cell_type": "code",
   "execution_count": 70,
   "id": "6cc93187-021a-4d63-abe2-7c2273478a57",
   "metadata": {},
   "outputs": [],
   "source": [
    "# Tranin Test Split\n",
    "df_raw, X_test = train_test_split(df_raw, test_size=0.2, random_state=42, stratify=df_raw['overall'])"
   ]
  },
  {
   "cell_type": "markdown",
   "id": "c9edf1e4-c958-4c09-adba-82132c47a0e1",
   "metadata": {},
   "source": [
    "## 0.2 Drop Unecessary Columns"
   ]
  },
  {
   "cell_type": "code",
   "execution_count": 71,
   "id": "828e29aa-77e9-4c96-9afc-e184a39046c0",
   "metadata": {},
   "outputs": [],
   "source": [
    "cols_to_select = ['overall','reviewText']"
   ]
  },
  {
   "cell_type": "code",
   "execution_count": 72,
   "id": "ecf41581-e579-405d-8c1f-5bc1d46148fa",
   "metadata": {},
   "outputs": [],
   "source": [
    "df_raw = df_raw[cols_to_select]"
   ]
  },
  {
   "cell_type": "code",
   "execution_count": 73,
   "id": "2e84dbbc-db1d-4476-b1a4-961fe547eae1",
   "metadata": {},
   "outputs": [
    {
     "data": {
      "text/html": [
       "<div>\n",
       "<style scoped>\n",
       "    .dataframe tbody tr th:only-of-type {\n",
       "        vertical-align: middle;\n",
       "    }\n",
       "\n",
       "    .dataframe tbody tr th {\n",
       "        vertical-align: top;\n",
       "    }\n",
       "\n",
       "    .dataframe thead th {\n",
       "        text-align: right;\n",
       "    }\n",
       "</style>\n",
       "<table border=\"1\" class=\"dataframe\">\n",
       "  <thead>\n",
       "    <tr style=\"text-align: right;\">\n",
       "      <th></th>\n",
       "      <th>overall</th>\n",
       "      <th>reviewText</th>\n",
       "    </tr>\n",
       "  </thead>\n",
       "  <tbody>\n",
       "    <tr>\n",
       "      <th>89</th>\n",
       "      <td>5.0</td>\n",
       "      <td>Excellent cover. Very fancy and looks great on...</td>\n",
       "    </tr>\n",
       "    <tr>\n",
       "      <th>159</th>\n",
       "      <td>5.0</td>\n",
       "      <td>My Nook charger was not doing so well and cant...</td>\n",
       "    </tr>\n",
       "    <tr>\n",
       "      <th>41</th>\n",
       "      <td>5.0</td>\n",
       "      <td>An excellent product/price, and super-fast shi...</td>\n",
       "    </tr>\n",
       "    <tr>\n",
       "      <th>177</th>\n",
       "      <td>5.0</td>\n",
       "      <td>Works just like it says. Great for streaming m...</td>\n",
       "    </tr>\n",
       "    <tr>\n",
       "      <th>66</th>\n",
       "      <td>5.0</td>\n",
       "      <td>Roland Smith's account, one of life for a teen...</td>\n",
       "    </tr>\n",
       "  </tbody>\n",
       "</table>\n",
       "</div>"
      ],
      "text/plain": [
       "     overall                                         reviewText\n",
       "89       5.0  Excellent cover. Very fancy and looks great on...\n",
       "159      5.0  My Nook charger was not doing so well and cant...\n",
       "41       5.0  An excellent product/price, and super-fast shi...\n",
       "177      5.0  Works just like it says. Great for streaming m...\n",
       "66       5.0  Roland Smith's account, one of life for a teen..."
      ]
     },
     "execution_count": 73,
     "metadata": {},
     "output_type": "execute_result"
    }
   ],
   "source": [
    "df_raw.head()"
   ]
  },
  {
   "cell_type": "markdown",
   "id": "8694d025-7b95-475b-864b-e50614df06f6",
   "metadata": {},
   "source": [
    "# 1.0 Transform Data"
   ]
  },
  {
   "cell_type": "code",
   "execution_count": 74,
   "id": "c88f5ef5-add1-4c4e-bd4c-13e3cbca5527",
   "metadata": {},
   "outputs": [],
   "source": [
    "df = df_raw.copy()"
   ]
  },
  {
   "cell_type": "code",
   "execution_count": 75,
   "id": "ecab5099-7b44-4391-b70a-7f6a5095f566",
   "metadata": {},
   "outputs": [
    {
     "name": "stderr",
     "output_type": "stream",
     "text": [
      "/home/edilson07/.pyenv/versions/3.10.11/envs/sentiment_analysis/lib/python3.10/site-packages/seaborn/_oldcore.py:1498: FutureWarning: is_categorical_dtype is deprecated and will be removed in a future version. Use isinstance(dtype, CategoricalDtype) instead\n",
      "  if pd.api.types.is_categorical_dtype(vector):\n",
      "/home/edilson07/.pyenv/versions/3.10.11/envs/sentiment_analysis/lib/python3.10/site-packages/seaborn/_oldcore.py:1498: FutureWarning: is_categorical_dtype is deprecated and will be removed in a future version. Use isinstance(dtype, CategoricalDtype) instead\n",
      "  if pd.api.types.is_categorical_dtype(vector):\n",
      "/home/edilson07/.pyenv/versions/3.10.11/envs/sentiment_analysis/lib/python3.10/site-packages/seaborn/_oldcore.py:1498: FutureWarning: is_categorical_dtype is deprecated and will be removed in a future version. Use isinstance(dtype, CategoricalDtype) instead\n",
      "  if pd.api.types.is_categorical_dtype(vector):\n"
     ]
    },
    {
     "data": {
      "text/plain": [
       "<Axes: xlabel='overall', ylabel='count'>"
      ]
     },
     "execution_count": 75,
     "metadata": {},
     "output_type": "execute_result"
    },
    {
     "data": {
      "image/png": "[encoded data removed]",
      "text/plain": [
       "<Figure size 640x480 with 1 Axes>"
      ]
     },
     "metadata": {},
     "output_type": "display_data"
    }
   ],
   "source": [
    "sns.countplot(df, x='overall')"
   ]
  },
  {
   "cell_type": "code",
   "execution_count": 76,
   "id": "2a2e4542-cedc-4669-8f34-5501bde3e663",
   "metadata": {},
   "outputs": [],
   "source": [
    "sentiment_dict = {\n",
    "    5.0 : 'Very Positive',\n",
    "    4.0 : 'Positive',\n",
    "    3.0 : 'Neutral',\n",
    "    2.0 : 'Negative',\n",
    "    1.0 : 'Negative'\n",
    "}"
   ]
  },
  {
   "cell_type": "code",
   "execution_count": 77,
   "id": "ded67dec-6406-4553-9492-aa91e1f30d98",
   "metadata": {},
   "outputs": [],
   "source": [
    "df['overall'] = df['overall'].map(sentiment_dict)"
   ]
  },
  {
   "cell_type": "markdown",
   "id": "fa63fc13-eebe-4199-86ea-2aada60b68fc",
   "metadata": {},
   "source": [
    "## 1.2 NaNs"
   ]
  },
  {
   "cell_type": "code",
   "execution_count": 78,
   "id": "f49787c4-e60f-4fcb-b0b0-5346d571b42e",
   "metadata": {},
   "outputs": [],
   "source": [
    "df.isna().sum()\n",
    "df = df.dropna()"
   ]
  },
  {
   "cell_type": "markdown",
   "id": "88c0d85c-95f6-4389-9775-8e2bd82b573d",
   "metadata": {},
   "source": [
    "# 2.0 Train-val split"
   ]
  },
  {
   "cell_type": "code",
   "execution_count": 79,
   "id": "1f07df2f-44c3-4347-a7ed-8b6716a16870",
   "metadata": {},
   "outputs": [],
   "source": [
    "train, validation = train_test_split(df, test_size=0.2, random_state=42, stratify=df['overall'])"
   ]
  },
  {
   "cell_type": "markdown",
   "id": "df49b840-efe6-47fd-8a15-4468ccf8cfdd",
   "metadata": {},
   "source": [
    "# 3.0 Load Model"
   ]
  },
  {
   "cell_type": "code",
   "execution_count": 80,
   "id": "2c2329cd-668c-4cec-8199-62cadd06c9b3",
   "metadata": {},
   "outputs": [
    {
     "name": "stderr",
     "output_type": "stream",
     "text": [
      "Some weights of the model checkpoint at distilbert-base-uncased were not used when initializing DistilBertForSequenceClassification: ['vocab_transform.bias', 'vocab_layer_norm.weight', 'vocab_transform.weight', 'vocab_projector.weight', 'vocab_layer_norm.bias', 'vocab_projector.bias']\n",
      "- This IS expected if you are initializing DistilBertForSequenceClassification from the checkpoint of a model trained on another task or with another architecture (e.g. initializing a BertForSequenceClassification model from a BertForPreTraining model).\n",
      "- This IS NOT expected if you are initializing DistilBertForSequenceClassification from the checkpoint of a model that you expect to be exactly identical (initializing a BertForSequenceClassification model from a BertForSequenceClassification model).\n",
      "Some weights of DistilBertForSequenceClassification were not initialized from the model checkpoint at distilbert-base-uncased and are newly initialized: ['classifier.bias', 'pre_classifier.weight', 'classifier.weight', 'pre_classifier.bias']\n",
      "You should probably TRAIN this model on a down-stream task to be able to use it for predictions and inference.\n"
     ]
    }
   ],
   "source": [
    "tokenizer = DistilBertTokenizer.from_pretrained('distilbert-base-uncased')\n",
    "model = DistilBertForSequenceClassification.from_pretrained('distilbert-base-uncased', num_labels=4)"
   ]
  },
  {
   "cell_type": "code",
   "execution_count": 81,
   "id": "e7499d40-beef-40b7-a229-6b6c8d5e721f",
   "metadata": {},
   "outputs": [],
   "source": [
    "# 1. Mapear sentimentos para IDs numéricos\n",
    "sentiment_id_map = {\n",
    "    'Negative': 0,\n",
    "    'Neutral': 1,\n",
    "    'Positive': 2,\n",
    "    'Very Positive': 3\n",
    "}\n",
    "\n",
    "train['sentiment_id'] = train['overall'].map(sentiment_id_map)\n",
    "validation['sentiment_id'] = validation['overall'].map(sentiment_id_map)"
   ]
  },
  {
   "cell_type": "code",
   "execution_count": 82,
   "id": "c8cf2562-1699-4806-a660-89d6923f1041",
   "metadata": {},
   "outputs": [],
   "source": [
    "# Tokenizando os datasets de treinamento e validação\n",
    "train_encodings = tokenizer(train['reviewText'].tolist(), truncation=True, padding=True, max_length=512)\n",
    "val_encodings = tokenizer(validation['reviewText'].tolist(), truncation=True, padding=True, max_length=512)"
   ]
  },
  {
   "cell_type": "markdown",
   "id": "08ab895c-cdf2-4676-8d2f-459b4089c81c",
   "metadata": {},
   "source": [
    "# 4.0 Prepare Data"
   ]
  },
  {
   "cell_type": "code",
   "execution_count": 83,
   "id": "31016e5d-6082-4941-b779-cb144705cc4a",
   "metadata": {},
   "outputs": [],
   "source": [
    "\n",
    "\n",
    "train['sentiment_id'] = train['overall'].map(sentiment_id_map)\n",
    "validation['sentiment_id'] = validation['overall'].map(sentiment_id_map)\n",
    "\n",
    "\n",
    "class SentimentDataset(torch.utils.data.Dataset):\n",
    "    def __init__(self, encodings, labels):\n",
    "        self.encodings = encodings\n",
    "        self.labels = labels\n",
    "\n",
    "    def __getitem__(self, idx):\n",
    "        item = {key: torch.tensor(val[idx]) for key, val in self.encodings.items()}\n",
    "        item['labels'] = torch.tensor(int(self.labels[idx]))\n",
    "        return item\n",
    "\n",
    "    def __len__(self):\n",
    "        return len(self.labels)\n",
    "\n",
    "train_dataset = SentimentDataset(train_encodings, train['sentiment_id'].values)\n",
    "val_dataset = SentimentDataset(val_encodings, validation['sentiment_id'].values)"
   ]
  },
  {
   "cell_type": "markdown",
   "id": "4cbc8273-33ec-40a6-9d51-9322a2dec69a",
   "metadata": {},
   "source": [
    "# 5.0 Training"
   ]
  },
  {
   "cell_type": "code",
   "execution_count": 84,
   "id": "d3c71941-65ca-4dc9-94fd-932469cc262e",
   "metadata": {},
   "outputs": [],
   "source": [
    "from datasets import load_metric\n",
    "\n",
    "metric = load_metric(\"f1\")\n",
    "\n",
    "def compute_metrics(p):\n",
    "    return metric.compute(predictions=np.argmax(p.predictions, axis=1), references=p.label_ids, average='macro')"
   ]
  },
  {
   "cell_type": "code",
   "execution_count": 85,
   "id": "562f8a9a-3062-4214-bc63-309bad751410",
   "metadata": {},
   "outputs": [],
   "source": [
    "repo_name = \"finetuning-sentiment-model-3000-samples\"\n",
    "\n",
    "training_args = TrainingArguments(\n",
    "    per_device_train_batch_size=8,\n",
    "    per_device_eval_batch_size=8,\n",
    "    num_train_epochs=3,\n",
    "    evaluation_strategy=\"epoch\",\n",
    "    save_strategy=\"epoch\",\n",
    "    logging_dir='./logs',\n",
    "    logging_steps=500,\n",
    "    do_train=True,\n",
    "    do_eval=True,\n",
    "    output_dir='./results',\n",
    "    load_best_model_at_end=True,\n",
    "    metric_for_best_model=\"f1\",\n",
    "    greater_is_better=True\n",
    ")\n",
    "\n",
    "trainer = Trainer(\n",
    "    model=model,\n",
    "    args=training_args,\n",
    "    train_dataset=train_dataset,\n",
    "    eval_dataset=val_dataset,\n",
    "    compute_metrics=compute_metrics\n",
    ")"
   ]
  },
  {
   "cell_type": "code",
   "execution_count": 86,
   "id": "cf49c534-3d33-4e67-af08-81bddfc5e480",
   "metadata": {
    "scrolled": true
   },
   "outputs": [
    {
     "name": "stderr",
     "output_type": "stream",
     "text": [
      "/home/edilson07/.pyenv/versions/3.10.11/envs/sentiment_analysis/lib/python3.10/site-packages/transformers/optimization.py:391: FutureWarning: This implementation of AdamW is deprecated and will be removed in a future version. Use the PyTorch implementation torch.optim.AdamW instead, or set `no_deprecation_warning=True` to disable this warning\n",
      "  warnings.warn(\n"
     ]
    },
    {
     "data": {
      "text/html": [
       "\n",
       "    <div>\n",
       "      \n",
       "      <progress value='48' max='48' style='width:300px; height:20px; vertical-align: middle;'></progress>\n",
       "      [48/48 08:21, Epoch 3/3]\n",
       "    </div>\n",
       "    <table border=\"1\" class=\"dataframe\">\n",
       "  <thead>\n",
       " <tr style=\"text-align: left;\">\n",
       "      <th>Epoch</th>\n",
       "      <th>Training Loss</th>\n",
       "      <th>Validation Loss</th>\n",
       "      <th>F1</th>\n",
       "    </tr>\n",
       "  </thead>\n",
       "  <tbody>\n",
       "    <tr>\n",
       "      <td>1</td>\n",
       "      <td>No log</td>\n",
       "      <td>0.922402</td>\n",
       "      <td>0.203704</td>\n",
       "    </tr>\n",
       "    <tr>\n",
       "      <td>2</td>\n",
       "      <td>No log</td>\n",
       "      <td>0.901235</td>\n",
       "      <td>0.203704</td>\n",
       "    </tr>\n",
       "    <tr>\n",
       "      <td>3</td>\n",
       "      <td>No log</td>\n",
       "      <td>0.890179</td>\n",
       "      <td>0.203704</td>\n",
       "    </tr>\n",
       "  </tbody>\n",
       "</table><p>"
      ],
      "text/plain": [
       "<IPython.core.display.HTML object>"
      ]
     },
     "metadata": {},
     "output_type": "display_data"
    },
    {
     "data": {
      "text/plain": [
       "TrainOutput(global_step=48, training_loss=0.8981107076009115, metrics={'train_runtime': 511.628, 'train_samples_per_second': 0.751, 'train_steps_per_second': 0.094, 'total_flos': 50869295382528.0, 'train_loss': 0.8981107076009115, 'epoch': 3.0})"
      ]
     },
     "execution_count": 86,
     "metadata": {},
     "output_type": "execute_result"
    }
   ],
   "source": [
    "trainer.train()"
   ]
  },
  {
   "cell_type": "code",
   "execution_count": 87,
   "id": "c8bdc319-f11b-430a-afe6-b66ffb659752",
   "metadata": {},
   "outputs": [
    {
     "data": {
      "text/html": [
       "\n",
       "    <div>\n",
       "      \n",
       "      <progress value='6' max='4' style='width:300px; height:20px; vertical-align: middle;'></progress>\n",
       "      [4/4 00:14]\n",
       "    </div>\n",
       "    "
      ],
      "text/plain": [
       "<IPython.core.display.HTML object>"
      ]
     },
     "metadata": {},
     "output_type": "display_data"
    },
    {
     "data": {
      "text/plain": [
       "{'eval_loss': 0.9224015474319458,\n",
       " 'eval_f1': 0.2037037037037037,\n",
       " 'eval_runtime': 11.4573,\n",
       " 'eval_samples_per_second': 2.793,\n",
       " 'eval_steps_per_second': 0.349,\n",
       " 'epoch': 3.0}"
      ]
     },
     "execution_count": 87,
     "metadata": {},
     "output_type": "execute_result"
    }
   ],
   "source": [
    "trainer.evaluate()"
   ]
  },
  {
   "cell_type": "markdown",
   "id": "ba2ea9bd-ff97-4761-b500-2e83bdfdd4d4",
   "metadata": {},
   "source": [
    "# Analyze predictions"
   ]
  },
  {
   "cell_type": "code",
   "execution_count": null,
   "id": "53bbf736-2fd9-4f2f-b511-d024699e6e7b",
   "metadata": {},
   "outputs": [],
   "source": [
    "# Obter previsões no conjunto de validação\n",
    "predictions, label_ids, _ = trainer.predict(val_dataset)\n",
    "\n",
    "# Converta as logits das previsões em rótulos previstos\n",
    "predicted_labels = np.argmax(predictions, axis=1)\n",
    "\n",
    "# Crie um mapeamento inverso para converter IDs de sentimento de volta para rótulos\n",
    "id_sentiment_map = {v: k for k, v in sentiment_id_map.items()}\n",
    "\n",
    "# Visualizar algumas previsões\n",
    "num_samples = 10  # número de amostras que você deseja visualizar\n",
    "for i in range(num_samples):\n",
    "    print(f\"Review: {validation['reviewText'].iloc[i]}\")\n",
    "    print(f\"Real Sentiment: {id_sentiment_map[label_ids[i]]}\")\n",
    "    print(f\"Predicted Sentiment: {id_sentiment_map[predicted_labels[i]]}\")\n",
    "    print(\"-\" * 50)\n"
   ]
  },
  {
   "cell_type": "code",
   "execution_count": null,
   "id": "77727163-1ec3-431b-8c5b-ae14e7c87d9f",
   "metadata": {},
   "outputs": [],
   "source": [
    "# Encontre os índices onde o modelo previu \"Negativo\"\n",
    "negative_predicted_indices = np.where(predicted_labels == sentiment_id_map['Very Positive'])[0]\n",
    "\n",
    "# Visualizar algumas previsões de \"Negativo\"\n",
    "num_samples = 10  # número de amostras que você deseja visualizar\n",
    "for i in negative_predicted_indices[:num_samples]:\n",
    "    print(f\"Review: {validation['reviewText'].iloc[i]}\")\n",
    "    print(f\"Real Sentiment: {id_sentiment_map[label_ids[i]]}\")\n",
    "    print(f\"Predicted Sentiment: {id_sentiment_map[predicted_labels[i]]}\")\n",
    "    print(\"-\" * 50)"
   ]
  },
  {
   "cell_type": "code",
   "execution_count": null,
   "id": "655b5640-5fcf-4397-b898-9df04ead8dec",
   "metadata": {},
   "outputs": [],
   "source": []
  },
  {
   "cell_type": "code",
   "execution_count": null,
   "id": "72c93bf7-45d6-4786-a164-e90f319bc00c",
   "metadata": {},
   "outputs": [],
   "source": []
  },
  {
   "cell_type": "code",
   "execution_count": null,
   "id": "f3bb3b9b-37ee-4c39-af7c-983d02924a05",
   "metadata": {},
   "outputs": [],
   "source": []
  }
 ],
 "metadata": {
  "kernelspec": {
   "display_name": "Python 3 (ipykernel)",
   "language": "python",
   "name": "python3"
  },
  "language_info": {
   "codemirror_mode": {
    "name": "ipython",
    "version": 3
   },
   "file_extension": ".py",
   "mimetype": "text/x-python",
   "name": "python",
   "nbconvert_exporter": "python",
   "pygments_lexer": "ipython3",
   "version": "3.10.11"
  }
 },
 "nbformat": 4,
 "nbformat_minor": 5
}
